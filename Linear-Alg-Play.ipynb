{
 "cells": [
  {
   "cell_type": "code",
   "execution_count": 31,
   "id": "dbbfb5cf",
   "metadata": {},
   "outputs": [],
   "source": [
    "import numpy as np\n",
    "import pandas as pd\n",
    "\n",
    "from math import sqrt\n",
    "import proj_1_newtons as p1"
   ]
  },
  {
   "cell_type": "code",
   "execution_count": null,
   "id": "700acb01",
   "metadata": {},
   "outputs": [],
   "source": []
  },
  {
   "cell_type": "code",
   "execution_count": 2,
   "id": "ffaf3cb1",
   "metadata": {},
   "outputs": [],
   "source": [
    "a = 1/sqrt(2)*np.array([1,0,1])\n",
    "\n"
   ]
  },
  {
   "cell_type": "code",
   "execution_count": 3,
   "id": "4cdba306",
   "metadata": {},
   "outputs": [],
   "source": [
    "l2_norm = np.linalg.norm(a)"
   ]
  },
  {
   "cell_type": "code",
   "execution_count": 4,
   "id": "572eeab6",
   "metadata": {},
   "outputs": [
    {
     "data": {
      "text/plain": [
       "0.9999999999999999"
      ]
     },
     "execution_count": 4,
     "metadata": {},
     "output_type": "execute_result"
    }
   ],
   "source": [
    "l2_norm\n"
   ]
  },
  {
   "cell_type": "code",
   "execution_count": 5,
   "id": "90c1be94",
   "metadata": {},
   "outputs": [
    {
     "data": {
      "text/plain": [
       "array([1, 2, 3])"
      ]
     },
     "execution_count": 5,
     "metadata": {},
     "output_type": "execute_result"
    }
   ],
   "source": [
    "x = np.array([1,2,3]).T\n",
    "x"
   ]
  },
  {
   "cell_type": "code",
   "execution_count": 6,
   "id": "50db9b62",
   "metadata": {},
   "outputs": [
    {
     "data": {
      "text/plain": [
       "array([1, 4, 9])"
      ]
     },
     "execution_count": 6,
     "metadata": {},
     "output_type": "execute_result"
    }
   ],
   "source": [
    "np.transpose(x)*x"
   ]
  },
  {
   "cell_type": "code",
   "execution_count": 29,
   "id": "8875e1fa",
   "metadata": {},
   "outputs": [],
   "source": [
    "x = [[1,2], \n",
    "    [3,4]]\n",
    "theta = [1,1]\n",
    "x = np.array(x)\n",
    "theta = np.array(theta).T\n"
   ]
  },
  {
   "cell_type": "code",
   "execution_count": null,
   "id": "dab350d9",
   "metadata": {},
   "outputs": [],
   "source": []
  },
  {
   "cell_type": "code",
   "execution_count": 9,
   "id": "f4024feb",
   "metadata": {},
   "outputs": [
    {
     "data": {
      "text/plain": [
       "array([[1, 1],\n",
       "       [2, 2]])"
      ]
     },
     "execution_count": 9,
     "metadata": {},
     "output_type": "execute_result"
    }
   ],
   "source": [
    "np.outer(x[0], theta)"
   ]
  },
  {
   "cell_type": "code",
   "execution_count": 30,
   "id": "b1a32eda",
   "metadata": {},
   "outputs": [
    {
     "ename": "ValueError",
     "evalue": "matmul: Input operand 1 does not have enough dimensions (has 0, gufunc core with signature (n?,k),(k,m?)->(n?,m?) requires 1)",
     "output_type": "error",
     "traceback": [
      "\u001b[0;31m---------------------------------------------------------------------------\u001b[0m",
      "\u001b[0;31mValueError\u001b[0m                                Traceback (most recent call last)",
      "Cell \u001b[0;32mIn[30], line 1\u001b[0m\n\u001b[0;32m----> 1\u001b[0m res \u001b[38;5;241m=\u001b[39m hessian(x, theta)\n",
      "Cell \u001b[0;32mIn[28], line 14\u001b[0m, in \u001b[0;36mhessian\u001b[0;34m(x, theta)\u001b[0m\n\u001b[1;32m     12\u001b[0m res \u001b[38;5;241m=\u001b[39m np\u001b[38;5;241m.\u001b[39mzeros((n,n))\n\u001b[1;32m     13\u001b[0m \u001b[38;5;28;01mfor\u001b[39;00m x_i \u001b[38;5;129;01min\u001b[39;00m theta:         \n\u001b[0;32m---> 14\u001b[0m     res \u001b[38;5;241m+\u001b[39m\u001b[38;5;241m=\u001b[39m row_derivative(x_i, theta)\n\u001b[1;32m     15\u001b[0m \u001b[38;5;28;01mreturn\u001b[39;00m \u001b[38;5;241m1\u001b[39m\u001b[38;5;241m/\u001b[39mn\u001b[38;5;241m*\u001b[39mres\n",
      "Cell \u001b[0;32mIn[28], line 8\u001b[0m, in \u001b[0;36mrow_derivative\u001b[0;34m(x_i, theta)\u001b[0m\n\u001b[1;32m      7\u001b[0m \u001b[38;5;28;01mdef\u001b[39;00m \u001b[38;5;21mrow_derivative\u001b[39m(x_i, theta): \n\u001b[0;32m----> 8\u001b[0m     \u001b[38;5;28;01mreturn\u001b[39;00m h(x_i, theta)\u001b[38;5;241m*\u001b[39m(\u001b[38;5;241m1\u001b[39m\u001b[38;5;241m-\u001b[39mh(x_i, theta))\u001b[38;5;241m*\u001b[39mnp\u001b[38;5;241m.\u001b[39mouter(x_i, x_i\u001b[38;5;241m.\u001b[39mT)\n",
      "Cell \u001b[0;32mIn[28], line 5\u001b[0m, in \u001b[0;36mh\u001b[0;34m(x_i, theta)\u001b[0m\n\u001b[1;32m      4\u001b[0m \u001b[38;5;28;01mdef\u001b[39;00m \u001b[38;5;21mh\u001b[39m(x_i, theta): \n\u001b[0;32m----> 5\u001b[0m     \u001b[38;5;28;01mreturn\u001b[39;00m g(theta\u001b[38;5;241m.\u001b[39mT \u001b[38;5;241m@\u001b[39m x_i)\n",
      "\u001b[0;31mValueError\u001b[0m: matmul: Input operand 1 does not have enough dimensions (has 0, gufunc core with signature (n?,k),(k,m?)->(n?,m?) requires 1)"
     ]
    }
   ],
   "source": [
    "res = hessian(x, theta)"
   ]
  },
  {
   "cell_type": "code",
   "execution_count": null,
   "id": "54552a54",
   "metadata": {},
   "outputs": [],
   "source": [
    "d"
   ]
  },
  {
   "cell_type": "code",
   "execution_count": 11,
   "id": "08ffa940",
   "metadata": {},
   "outputs": [
    {
     "data": {
      "text/plain": [
       "0.22559538770208767"
      ]
     },
     "execution_count": 11,
     "metadata": {},
     "output_type": "execute_result"
    }
   ],
   "source": [
    "res"
   ]
  },
  {
   "cell_type": "code",
   "execution_count": null,
   "id": "edf4197b",
   "metadata": {},
   "outputs": [],
   "source": []
  },
  {
   "cell_type": "code",
   "execution_count": null,
   "id": "59480147",
   "metadata": {},
   "outputs": [],
   "source": []
  },
  {
   "cell_type": "code",
   "execution_count": 12,
   "id": "84c1e821",
   "metadata": {},
   "outputs": [],
   "source": [
    "tmp = np.dot(x[0].T, x[0])"
   ]
  },
  {
   "cell_type": "code",
   "execution_count": 13,
   "id": "0cc3dd98",
   "metadata": {},
   "outputs": [
    {
     "name": "stdout",
     "output_type": "stream",
     "text": [
      "[[1 2]\n",
      " [2 4]]\n"
     ]
    }
   ],
   "source": [
    "first_row = x[0, :]\n",
    "\n",
    "# Step 2: Reshape the first row into a column vector (shape (n, 1))\n",
    "z = first_row.reshape(-1, 1)\n",
    "\n",
    "# Step 3: Compute z * z^T (shape (n, n))\n",
    "result = np.dot(z, z.T)\n",
    "\n",
    "print(result)"
   ]
  },
  {
   "cell_type": "code",
   "execution_count": 14,
   "id": "4b659723",
   "metadata": {},
   "outputs": [
    {
     "data": {
      "text/plain": [
       "array([[1, 2],\n",
       "       [3, 4]])"
      ]
     },
     "execution_count": 14,
     "metadata": {},
     "output_type": "execute_result"
    }
   ],
   "source": [
    "x"
   ]
  },
  {
   "cell_type": "code",
   "execution_count": 15,
   "id": "073a3efb",
   "metadata": {},
   "outputs": [],
   "source": [
    "# Ax = b\n",
    "\n"
   ]
  },
  {
   "cell_type": "code",
   "execution_count": 16,
   "id": "936e0a9f",
   "metadata": {},
   "outputs": [],
   "source": [
    "# xTAx "
   ]
  },
  {
   "cell_type": "code",
   "execution_count": 17,
   "id": "694706d3",
   "metadata": {},
   "outputs": [],
   "source": [
    "# innner product xTy\n",
    "\n",
    "# outer product xxT "
   ]
  },
  {
   "cell_type": "code",
   "execution_count": 18,
   "id": "dc15c0bf",
   "metadata": {},
   "outputs": [],
   "source": [
    "#in numpy python, i want to do the following: * first, define x and y, which are 3 x1 vectors with random values * define A, a 3 x3 matrix with random values * calculate x transpose y, the inner product * calculate xxT, the outer product * calculate Ax, the matrix multiplied by a vector"
   ]
  },
  {
   "cell_type": "code",
   "execution_count": 19,
   "id": "62ea93e7",
   "metadata": {},
   "outputs": [
    {
     "name": "stdout",
     "output_type": "stream",
     "text": [
      "ip:  [[5.15196847]]\n",
      "op:  [[36 18 42]\n",
      " [18  9 21]\n",
      " [42 21 49]]\n"
     ]
    }
   ],
   "source": [
    "\n",
    "# Set random seed for reproducibility\n",
    "np.random.seed(42)\n",
    "\n",
    "# Define x and y as 3x1 vectors with random values\n",
    "# x = np.random.rand(3, 1)\n",
    "x = np.random.randint(0, 10, size=(3, 1))\n",
    "y = np.random.rand(3, 1)\n",
    "\n",
    "# Define A as a 3x3 matrix with random values\n",
    "A = np.random.rand(3, 3)\n",
    "\n",
    "# Calculate inner product (x transpose * y)\n",
    "# Result is a scalar (1x1)\n",
    "inner_product = x.T @ y  # alternatively: np.dot(x.T, y)\n",
    "\n",
    "ip = np.dot(x.T, y)\n",
    "\n",
    "# Calculate outer product (x * x transpose)\n",
    "# Result is a 3x3 matrix\n",
    "outer_product = x @ x.T  # alternatively: np.outer(x.flatten(), x.flatten())\n",
    "op = np.outer(x, x.T)\n",
    "\n",
    "# Calculate matrix-vector product (A * x)\n",
    "# Result is a 3x1 vector\n",
    "matrix_vector_product = A @ x  # alternatively: np.dot(A, x)\n",
    "\n",
    "\n",
    "print(\"ip: \", ip)\n",
    "print(\"op: \", op)"
   ]
  },
  {
   "cell_type": "code",
   "execution_count": 20,
   "id": "91f69402",
   "metadata": {},
   "outputs": [
    {
     "name": "stdout",
     "output_type": "stream",
     "text": [
      "Vector x:\n",
      "[[6]\n",
      " [3]\n",
      " [7]]\n",
      "\n",
      "Vector y:\n",
      "[[0.59865848]\n",
      " [0.15601864]\n",
      " [0.15599452]]\n",
      "\n",
      "Matrix A:\n",
      "[[0.05808361 0.86617615 0.60111501]\n",
      " [0.70807258 0.02058449 0.96990985]\n",
      " [0.83244264 0.21233911 0.18182497]]\n",
      "\n",
      "Inner product (x^T * y):\n",
      "[[5.15196847]]\n",
      "\n",
      "Outer product (x * x^T):\n",
      "[[36 18 42]\n",
      " [18  9 21]\n",
      " [42 21 49]]\n",
      "\n",
      "Matrix-vector product (A * x):\n",
      "[[ 7.15483519]\n",
      " [11.09955791]\n",
      " [ 6.90444795]]\n"
     ]
    }
   ],
   "source": [
    "# Print results\n",
    "print(\"Vector x:\")\n",
    "print(x)\n",
    "print(\"\\nVector y:\")\n",
    "print(y)\n",
    "print(\"\\nMatrix A:\")\n",
    "print(A)\n",
    "print(\"\\nInner product (x^T * y):\")\n",
    "print(inner_product)\n",
    "print(\"\\nOuter product (x * x^T):\")\n",
    "print(outer_product)\n",
    "print(\"\\nMatrix-vector product (A * x):\")\n",
    "print(matrix_vector_product)"
   ]
  },
  {
   "cell_type": "code",
   "execution_count": null,
   "id": "4c96310a",
   "metadata": {},
   "outputs": [],
   "source": []
  },
  {
   "cell_type": "code",
   "execution_count": null,
   "id": "72ad9949",
   "metadata": {},
   "outputs": [],
   "source": []
  }
 ],
 "metadata": {
  "kernelspec": {
   "display_name": "Python 3 (ipykernel)",
   "language": "python",
   "name": "python3"
  },
  "language_info": {
   "codemirror_mode": {
    "name": "ipython",
    "version": 3
   },
   "file_extension": ".py",
   "mimetype": "text/x-python",
   "name": "python",
   "nbconvert_exporter": "python",
   "pygments_lexer": "ipython3",
   "version": "3.11.5"
  }
 },
 "nbformat": 4,
 "nbformat_minor": 5
}

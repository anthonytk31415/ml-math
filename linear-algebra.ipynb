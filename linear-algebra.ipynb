{
 "cells": [
  {
   "cell_type": "code",
   "execution_count": 1,
   "id": "7db5fd91",
   "metadata": {},
   "outputs": [],
   "source": [
    "import numpy as np\n",
    "import la_functions as la"
   ]
  },
  {
   "cell_type": "code",
   "execution_count": 2,
   "id": "6098c1c6",
   "metadata": {},
   "outputs": [],
   "source": [
    "# a = np.array([[25, 7], [7,25]])\n",
    "# a = np.array([[1, 1], [0, -1]])\n",
    "# a = np.array([[1, 0], [0, 1]])"
   ]
  },
  {
   "cell_type": "code",
   "execution_count": 3,
   "id": "40df822d",
   "metadata": {},
   "outputs": [],
   "source": [
    "a = np.array( [[3,0],[4,5]])"
   ]
  },
  {
   "cell_type": "code",
   "execution_count": 4,
   "id": "c4a3c4ba",
   "metadata": {},
   "outputs": [
    {
     "name": "stdout",
     "output_type": "stream",
     "text": [
      "matrix: [[3 0]\n",
      " [4 5]]\n",
      "determinant: 15.0\n",
      "eigenvalues: [5. 3.]\n",
      "eigenvectors: [[ 0.          0.4472136 ]\n",
      " [ 1.         -0.89442719]]\n",
      "inverse: [[ 0.33333333  0.        ]\n",
      " [-0.26666667  0.2       ]]\n"
     ]
    }
   ],
   "source": [
    "[arr, det, e_val, e_vec, inv] = la.calculate_eigenvectors(a)"
   ]
  }
 ],
 "metadata": {
  "kernelspec": {
   "display_name": "Python 3 (ipykernel)",
   "language": "python",
   "name": "python3"
  },
  "language_info": {
   "codemirror_mode": {
    "name": "ipython",
    "version": 3
   },
   "file_extension": ".py",
   "mimetype": "text/x-python",
   "name": "python",
   "nbconvert_exporter": "python",
   "pygments_lexer": "ipython3",
   "version": "3.11.5"
  }
 },
 "nbformat": 4,
 "nbformat_minor": 5
}
